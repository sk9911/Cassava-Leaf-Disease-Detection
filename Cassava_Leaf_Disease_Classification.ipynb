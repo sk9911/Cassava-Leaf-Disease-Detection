{
  "nbformat": 4,
  "nbformat_minor": 0,
  "metadata": {
    "accelerator": "GPU",
    "colab": {
      "name": "Cassava Leaf Disease Classification.ipynb",
      "provenance": [],
      "collapsed_sections": []
    },
    "kernelspec": {
      "display_name": "Python 3",
      "name": "python3"
    }
  },
  "cells": [
    {
      "cell_type": "code",
      "metadata": {
        "colab": {
          "base_uri": "https://localhost:8080/"
        },
        "id": "Fv3-osFqexuE",
        "outputId": "31b9388d-f02c-4341-e219-5ba34f3d3d2a"
      },
      "source": [
        "!nvidia-smi"
      ],
      "execution_count": null,
      "outputs": [
        {
          "output_type": "stream",
          "text": [
            "Thu Jan  7 03:28:06 2021       \n",
            "+-----------------------------------------------------------------------------+\n",
            "| NVIDIA-SMI 460.27.04    Driver Version: 418.67       CUDA Version: 10.1     |\n",
            "|-------------------------------+----------------------+----------------------+\n",
            "| GPU  Name        Persistence-M| Bus-Id        Disp.A | Volatile Uncorr. ECC |\n",
            "| Fan  Temp  Perf  Pwr:Usage/Cap|         Memory-Usage | GPU-Util  Compute M. |\n",
            "|                               |                      |               MIG M. |\n",
            "|===============================+======================+======================|\n",
            "|   0  Tesla T4            Off  | 00000000:00:04.0 Off |                    0 |\n",
            "| N/A   49C    P8    11W /  70W |      0MiB / 15079MiB |      0%      Default |\n",
            "|                               |                      |                 ERR! |\n",
            "+-------------------------------+----------------------+----------------------+\n",
            "                                                                               \n",
            "+-----------------------------------------------------------------------------+\n",
            "| Processes:                                                                  |\n",
            "|  GPU   GI   CI        PID   Type   Process name                  GPU Memory |\n",
            "|        ID   ID                                                   Usage      |\n",
            "|=============================================================================|\n",
            "|  No running processes found                                                 |\n",
            "+-----------------------------------------------------------------------------+\n"
          ],
          "name": "stdout"
        }
      ]
    },
    {
      "cell_type": "code",
      "metadata": {
        "colab": {
          "base_uri": "https://localhost:8080/"
        },
        "id": "O2HNH5XtPIJd",
        "outputId": "f8bebf89-2391-4f94-ddb6-9e27a6ec41f9"
      },
      "source": [
        "from google.colab import drive\r\n",
        "drive.mount('data/')"
      ],
      "execution_count": null,
      "outputs": [
        {
          "output_type": "stream",
          "text": [
            "Mounted at data/\n"
          ],
          "name": "stdout"
        }
      ]
    },
    {
      "cell_type": "code",
      "metadata": {
        "colab": {
          "base_uri": "https://localhost:8080/"
        },
        "id": "lo7kglYEvstf",
        "outputId": "e30b2509-dd59-4fce-ada0-52c0ffe51faa"
      },
      "source": [
        "import pandas as pd\r\n",
        "df = pd.read_csv('/content/data/MyDrive/Cassava Leaf/train.csv')\r\n",
        "\r\n",
        "k = 0\r\n",
        "for i in range(21397):\r\n",
        "    try:\r\n",
        "        if df.loc[i]['label'] == 3:\r\n",
        "            if k<10581:\r\n",
        "                df = df.drop(i, axis= 0)\r\n",
        "                k+=1\r\n",
        "            else:\r\n",
        "                break\r\n",
        "    except:\r\n",
        "        pass\r\n",
        "\r\n",
        "images = list(df['image_id'])[:-1]\r\n",
        "labels= list(df['label'])[:-1]\r\n",
        "\r\n",
        "len(images), len(labels)"
      ],
      "execution_count": null,
      "outputs": [
        {
          "output_type": "execute_result",
          "data": {
            "text/plain": [
              "(10815, 10815)"
            ]
          },
          "metadata": {
            "tags": []
          },
          "execution_count": 3
        }
      ]
    },
    {
      "cell_type": "code",
      "metadata": {
        "colab": {
          "base_uri": "https://localhost:8080/"
        },
        "id": "-mg1uwAsvsyr",
        "outputId": "1c579a15-da35-4ccc-88e8-72a532b11bb0"
      },
      "source": [
        "df.label.value_counts()"
      ],
      "execution_count": null,
      "outputs": [
        {
          "output_type": "execute_result",
          "data": {
            "text/plain": [
              "4    2577\n",
              "3    2577\n",
              "2    2386\n",
              "1    2189\n",
              "0    1087\n",
              "Name: label, dtype: int64"
            ]
          },
          "metadata": {
            "tags": []
          },
          "execution_count": 4
        }
      ]
    },
    {
      "cell_type": "code",
      "metadata": {
        "colab": {
          "base_uri": "https://localhost:8080/"
        },
        "id": "r-ihWI8O2ajr",
        "outputId": "54d5b639-ade4-4cf7-bfd9-054312e112d6"
      },
      "source": [
        "!pip install efficientnet_pytorch\r\n",
        "from torch.utils.data import Dataset, DataLoader\r\n",
        "from PIL import Image\r\n",
        "import torchvision.transforms as transforms\r\n",
        "import torch\r\n",
        "import h5py\r\n",
        "import numpy as np\r\n",
        "import torchvision\r\n",
        "import torch.nn as nn\r\n",
        "import torch.nn.functional as F\r\n",
        "import datetime\r\n",
        "import matplotlib.pyplot as plt\r\n",
        "from torchsummary import summary\r\n",
        "from efficientnet_pytorch import EfficientNet\r\n",
        "import os\r\n",
        "from multiprocessing import Process, Pool\r\n",
        "\r\n",
        "from torch.multiprocessing import Pool, Process, set_start_method\r\n",
        "try:\r\n",
        "     set_start_method('spawn')\r\n",
        "except RuntimeError:\r\n",
        "    pass"
      ],
      "execution_count": null,
      "outputs": [
        {
          "output_type": "stream",
          "text": [
            "Collecting efficientnet_pytorch\n",
            "  Downloading https://files.pythonhosted.org/packages/4e/83/f9c5f44060f996279e474185ebcbd8dbd91179593bffb9abe3afa55d085b/efficientnet_pytorch-0.7.0.tar.gz\n",
            "Requirement already satisfied: torch in /usr/local/lib/python3.6/dist-packages (from efficientnet_pytorch) (1.7.0+cu101)\n",
            "Requirement already satisfied: future in /usr/local/lib/python3.6/dist-packages (from torch->efficientnet_pytorch) (0.16.0)\n",
            "Requirement already satisfied: dataclasses in /usr/local/lib/python3.6/dist-packages (from torch->efficientnet_pytorch) (0.8)\n",
            "Requirement already satisfied: numpy in /usr/local/lib/python3.6/dist-packages (from torch->efficientnet_pytorch) (1.19.4)\n",
            "Requirement already satisfied: typing-extensions in /usr/local/lib/python3.6/dist-packages (from torch->efficientnet_pytorch) (3.7.4.3)\n",
            "Building wheels for collected packages: efficientnet-pytorch\n",
            "  Building wheel for efficientnet-pytorch (setup.py) ... \u001b[?25l\u001b[?25hdone\n",
            "  Created wheel for efficientnet-pytorch: filename=efficientnet_pytorch-0.7.0-cp36-none-any.whl size=16032 sha256=a678b77c951c34777109d9eef5b968d3e53e52eac28855d5f581660c8a2aa911\n",
            "  Stored in directory: /root/.cache/pip/wheels/e9/c6/e1/7a808b26406239712cfce4b5ceeb67d9513ae32aa4b31445c6\n",
            "Successfully built efficientnet-pytorch\n",
            "Installing collected packages: efficientnet-pytorch\n",
            "Successfully installed efficientnet-pytorch-0.7.0\n"
          ],
          "name": "stdout"
        }
      ]
    },
    {
      "cell_type": "code",
      "metadata": {
        "id": "rM_MYpQX2MIb"
      },
      "source": [
        "class CassavaDataset(Dataset):\r\n",
        "    def __init__(self, path, images, labels, transform):\r\n",
        "        self.path = path\r\n",
        "        self.images = images\r\n",
        "        self.labels = labels\r\n",
        "        self.transform = transform\r\n",
        "\r\n",
        "    def __getitem__(self, idx):\r\n",
        "\r\n",
        "        label = pd.get_dummies(self.labels).loc[idx]\r\n",
        "        img = Image.open(self.path+self.images[idx])\r\n",
        "        img = self.transform(img)\r\n",
        "        return (img.to('cuda'), torch.tensor(label).to('cuda'))\r\n",
        "\r\n",
        "\r\n",
        "    def __len__(self):\r\n",
        "        return len(self.images)"
      ],
      "execution_count": null,
      "outputs": []
    },
    {
      "cell_type": "code",
      "metadata": {
        "id": "U8I2ovg54Aks"
      },
      "source": [
        "path = r'/content/data/MyDrive/Cassava Leaf/train_images/'\r\n",
        "\r\n",
        "transform = transforms.Compose([\r\n",
        "                transforms.Resize((400, 600)), # 600x800\r\n",
        "                transforms.ToTensor(),\r\n",
        "                transforms.Normalize([0.5, 0.5, 0.5], [0.5, 0.5, 0.5]),\r\n",
        "                transforms.RandomVerticalFlip(p=0.5),\r\n",
        "                transforms.RandomHorizontalFlip(p=0.5),\r\n",
        "                transforms.RandomRotation((-30, 30))\r\n",
        "])\r\n",
        "\r\n",
        "dataset = CassavaDataset(path, images, labels, transform)"
      ],
      "execution_count": null,
      "outputs": []
    },
    {
      "cell_type": "code",
      "metadata": {
        "colab": {
          "base_uri": "https://localhost:8080/"
        },
        "id": "Ep_ZVLBife9i",
        "outputId": "9efa3808-d572-401b-8c8b-c42a9fdbc40f"
      },
      "source": [
        "len(dataset)"
      ],
      "execution_count": null,
      "outputs": [
        {
          "output_type": "execute_result",
          "data": {
            "text/plain": [
              "10815"
            ]
          },
          "metadata": {
            "tags": []
          },
          "execution_count": 8
        }
      ]
    },
    {
      "cell_type": "code",
      "metadata": {
        "id": "LAduegl773WX"
      },
      "source": [
        "trainset, testset = torch.utils.data.random_split(dataset, [9999, 816])\r\n",
        "testset, valset = torch.utils.data.random_split(testset, [408, 408])\r\n",
        "\r\n",
        "train_dl = DataLoader(trainset, batch_size= 16, shuffle= True)\r\n",
        "test_dl = DataLoader(testset, batch_size= 16, shuffle= True)\r\n",
        "val_dl = DataLoader(valset, batch_size= 16, shuffle= True)"
      ],
      "execution_count": null,
      "outputs": []
    },
    {
      "cell_type": "code",
      "metadata": {
        "colab": {
          "base_uri": "https://localhost:8080/"
        },
        "id": "6JvegZKF4Ank",
        "outputId": "d1fe7398-1b89-40c9-983c-b6bd5097dd64"
      },
      "source": [
        "effnet = EfficientNet.from_name('efficientnet-b3') #b1 and b2\r\n",
        "effnet._fc = nn.Linear(in_features=1536, out_features=5, bias=True)\r\n",
        "effnet = torch.load(r'/content/data/MyDrive/cassava_effnet_b3_20_lesser')\r\n",
        "effnet = effnet.to('cuda')\r\n",
        "summary(effnet, (3, 600, 800))\r\n",
        "# effnet"
      ],
      "execution_count": null,
      "outputs": [
        {
          "output_type": "stream",
          "text": [
            "----------------------------------------------------------------\n",
            "        Layer (type)               Output Shape         Param #\n",
            "================================================================\n",
            "         ZeroPad2d-1          [-1, 3, 602, 802]               0\n",
            "Conv2dStaticSamePadding-2         [-1, 40, 300, 400]           1,080\n",
            "       BatchNorm2d-3         [-1, 40, 300, 400]              80\n",
            "MemoryEfficientSwish-4         [-1, 40, 300, 400]               0\n",
            "         ZeroPad2d-5         [-1, 40, 302, 402]               0\n",
            "Conv2dStaticSamePadding-6         [-1, 40, 300, 400]             360\n",
            "       BatchNorm2d-7         [-1, 40, 300, 400]              80\n",
            "MemoryEfficientSwish-8         [-1, 40, 300, 400]               0\n",
            "          Identity-9             [-1, 40, 1, 1]               0\n",
            "Conv2dStaticSamePadding-10             [-1, 10, 1, 1]             410\n",
            "MemoryEfficientSwish-11             [-1, 10, 1, 1]               0\n",
            "         Identity-12             [-1, 10, 1, 1]               0\n",
            "Conv2dStaticSamePadding-13             [-1, 40, 1, 1]             440\n",
            "         Identity-14         [-1, 40, 300, 400]               0\n",
            "Conv2dStaticSamePadding-15         [-1, 24, 300, 400]             960\n",
            "      BatchNorm2d-16         [-1, 24, 300, 400]              48\n",
            "      MBConvBlock-17         [-1, 24, 300, 400]               0\n",
            "        ZeroPad2d-18         [-1, 24, 302, 402]               0\n",
            "Conv2dStaticSamePadding-19         [-1, 24, 300, 400]             216\n",
            "      BatchNorm2d-20         [-1, 24, 300, 400]              48\n",
            "MemoryEfficientSwish-21         [-1, 24, 300, 400]               0\n",
            "         Identity-22             [-1, 24, 1, 1]               0\n",
            "Conv2dStaticSamePadding-23              [-1, 6, 1, 1]             150\n",
            "MemoryEfficientSwish-24              [-1, 6, 1, 1]               0\n",
            "         Identity-25              [-1, 6, 1, 1]               0\n",
            "Conv2dStaticSamePadding-26             [-1, 24, 1, 1]             168\n",
            "         Identity-27         [-1, 24, 300, 400]               0\n",
            "Conv2dStaticSamePadding-28         [-1, 24, 300, 400]             576\n",
            "      BatchNorm2d-29         [-1, 24, 300, 400]              48\n",
            "      MBConvBlock-30         [-1, 24, 300, 400]               0\n",
            "         Identity-31         [-1, 24, 300, 400]               0\n",
            "Conv2dStaticSamePadding-32        [-1, 144, 300, 400]           3,456\n",
            "      BatchNorm2d-33        [-1, 144, 300, 400]             288\n",
            "MemoryEfficientSwish-34        [-1, 144, 300, 400]               0\n",
            "        ZeroPad2d-35        [-1, 144, 302, 402]               0\n",
            "Conv2dStaticSamePadding-36        [-1, 144, 150, 200]           1,296\n",
            "      BatchNorm2d-37        [-1, 144, 150, 200]             288\n",
            "MemoryEfficientSwish-38        [-1, 144, 150, 200]               0\n",
            "         Identity-39            [-1, 144, 1, 1]               0\n",
            "Conv2dStaticSamePadding-40              [-1, 6, 1, 1]             870\n",
            "MemoryEfficientSwish-41              [-1, 6, 1, 1]               0\n",
            "         Identity-42              [-1, 6, 1, 1]               0\n",
            "Conv2dStaticSamePadding-43            [-1, 144, 1, 1]           1,008\n",
            "         Identity-44        [-1, 144, 150, 200]               0\n",
            "Conv2dStaticSamePadding-45         [-1, 32, 150, 200]           4,608\n",
            "      BatchNorm2d-46         [-1, 32, 150, 200]              64\n",
            "      MBConvBlock-47         [-1, 32, 150, 200]               0\n",
            "         Identity-48         [-1, 32, 150, 200]               0\n",
            "Conv2dStaticSamePadding-49        [-1, 192, 150, 200]           6,144\n",
            "      BatchNorm2d-50        [-1, 192, 150, 200]             384\n",
            "MemoryEfficientSwish-51        [-1, 192, 150, 200]               0\n",
            "        ZeroPad2d-52        [-1, 192, 152, 202]               0\n",
            "Conv2dStaticSamePadding-53        [-1, 192, 150, 200]           1,728\n",
            "      BatchNorm2d-54        [-1, 192, 150, 200]             384\n",
            "MemoryEfficientSwish-55        [-1, 192, 150, 200]               0\n",
            "         Identity-56            [-1, 192, 1, 1]               0\n",
            "Conv2dStaticSamePadding-57              [-1, 8, 1, 1]           1,544\n",
            "MemoryEfficientSwish-58              [-1, 8, 1, 1]               0\n",
            "         Identity-59              [-1, 8, 1, 1]               0\n",
            "Conv2dStaticSamePadding-60            [-1, 192, 1, 1]           1,728\n",
            "         Identity-61        [-1, 192, 150, 200]               0\n",
            "Conv2dStaticSamePadding-62         [-1, 32, 150, 200]           6,144\n",
            "      BatchNorm2d-63         [-1, 32, 150, 200]              64\n",
            "      MBConvBlock-64         [-1, 32, 150, 200]               0\n",
            "         Identity-65         [-1, 32, 150, 200]               0\n",
            "Conv2dStaticSamePadding-66        [-1, 192, 150, 200]           6,144\n",
            "      BatchNorm2d-67        [-1, 192, 150, 200]             384\n",
            "MemoryEfficientSwish-68        [-1, 192, 150, 200]               0\n",
            "        ZeroPad2d-69        [-1, 192, 152, 202]               0\n",
            "Conv2dStaticSamePadding-70        [-1, 192, 150, 200]           1,728\n",
            "      BatchNorm2d-71        [-1, 192, 150, 200]             384\n",
            "MemoryEfficientSwish-72        [-1, 192, 150, 200]               0\n",
            "         Identity-73            [-1, 192, 1, 1]               0\n",
            "Conv2dStaticSamePadding-74              [-1, 8, 1, 1]           1,544\n",
            "MemoryEfficientSwish-75              [-1, 8, 1, 1]               0\n",
            "         Identity-76              [-1, 8, 1, 1]               0\n",
            "Conv2dStaticSamePadding-77            [-1, 192, 1, 1]           1,728\n",
            "         Identity-78        [-1, 192, 150, 200]               0\n",
            "Conv2dStaticSamePadding-79         [-1, 32, 150, 200]           6,144\n",
            "      BatchNorm2d-80         [-1, 32, 150, 200]              64\n",
            "      MBConvBlock-81         [-1, 32, 150, 200]               0\n",
            "         Identity-82         [-1, 32, 150, 200]               0\n",
            "Conv2dStaticSamePadding-83        [-1, 192, 150, 200]           6,144\n",
            "      BatchNorm2d-84        [-1, 192, 150, 200]             384\n",
            "MemoryEfficientSwish-85        [-1, 192, 150, 200]               0\n",
            "        ZeroPad2d-86        [-1, 192, 154, 204]               0\n",
            "Conv2dStaticSamePadding-87         [-1, 192, 75, 100]           4,800\n",
            "      BatchNorm2d-88         [-1, 192, 75, 100]             384\n",
            "MemoryEfficientSwish-89         [-1, 192, 75, 100]               0\n",
            "         Identity-90            [-1, 192, 1, 1]               0\n",
            "Conv2dStaticSamePadding-91              [-1, 8, 1, 1]           1,544\n",
            "MemoryEfficientSwish-92              [-1, 8, 1, 1]               0\n",
            "         Identity-93              [-1, 8, 1, 1]               0\n",
            "Conv2dStaticSamePadding-94            [-1, 192, 1, 1]           1,728\n",
            "         Identity-95         [-1, 192, 75, 100]               0\n",
            "Conv2dStaticSamePadding-96          [-1, 48, 75, 100]           9,216\n",
            "      BatchNorm2d-97          [-1, 48, 75, 100]              96\n",
            "      MBConvBlock-98          [-1, 48, 75, 100]               0\n",
            "         Identity-99          [-1, 48, 75, 100]               0\n",
            "Conv2dStaticSamePadding-100         [-1, 288, 75, 100]          13,824\n",
            "     BatchNorm2d-101         [-1, 288, 75, 100]             576\n",
            "MemoryEfficientSwish-102         [-1, 288, 75, 100]               0\n",
            "       ZeroPad2d-103         [-1, 288, 79, 104]               0\n",
            "Conv2dStaticSamePadding-104         [-1, 288, 75, 100]           7,200\n",
            "     BatchNorm2d-105         [-1, 288, 75, 100]             576\n",
            "MemoryEfficientSwish-106         [-1, 288, 75, 100]               0\n",
            "        Identity-107            [-1, 288, 1, 1]               0\n",
            "Conv2dStaticSamePadding-108             [-1, 12, 1, 1]           3,468\n",
            "MemoryEfficientSwish-109             [-1, 12, 1, 1]               0\n",
            "        Identity-110             [-1, 12, 1, 1]               0\n",
            "Conv2dStaticSamePadding-111            [-1, 288, 1, 1]           3,744\n",
            "        Identity-112         [-1, 288, 75, 100]               0\n",
            "Conv2dStaticSamePadding-113          [-1, 48, 75, 100]          13,824\n",
            "     BatchNorm2d-114          [-1, 48, 75, 100]              96\n",
            "     MBConvBlock-115          [-1, 48, 75, 100]               0\n",
            "        Identity-116          [-1, 48, 75, 100]               0\n",
            "Conv2dStaticSamePadding-117         [-1, 288, 75, 100]          13,824\n",
            "     BatchNorm2d-118         [-1, 288, 75, 100]             576\n",
            "MemoryEfficientSwish-119         [-1, 288, 75, 100]               0\n",
            "       ZeroPad2d-120         [-1, 288, 79, 104]               0\n",
            "Conv2dStaticSamePadding-121         [-1, 288, 75, 100]           7,200\n",
            "     BatchNorm2d-122         [-1, 288, 75, 100]             576\n",
            "MemoryEfficientSwish-123         [-1, 288, 75, 100]               0\n",
            "        Identity-124            [-1, 288, 1, 1]               0\n",
            "Conv2dStaticSamePadding-125             [-1, 12, 1, 1]           3,468\n",
            "MemoryEfficientSwish-126             [-1, 12, 1, 1]               0\n",
            "        Identity-127             [-1, 12, 1, 1]               0\n",
            "Conv2dStaticSamePadding-128            [-1, 288, 1, 1]           3,744\n",
            "        Identity-129         [-1, 288, 75, 100]               0\n",
            "Conv2dStaticSamePadding-130          [-1, 48, 75, 100]          13,824\n",
            "     BatchNorm2d-131          [-1, 48, 75, 100]              96\n",
            "     MBConvBlock-132          [-1, 48, 75, 100]               0\n",
            "        Identity-133          [-1, 48, 75, 100]               0\n",
            "Conv2dStaticSamePadding-134         [-1, 288, 75, 100]          13,824\n",
            "     BatchNorm2d-135         [-1, 288, 75, 100]             576\n",
            "MemoryEfficientSwish-136         [-1, 288, 75, 100]               0\n",
            "       ZeroPad2d-137         [-1, 288, 77, 102]               0\n",
            "Conv2dStaticSamePadding-138          [-1, 288, 38, 50]           2,592\n",
            "     BatchNorm2d-139          [-1, 288, 38, 50]             576\n",
            "MemoryEfficientSwish-140          [-1, 288, 38, 50]               0\n",
            "        Identity-141            [-1, 288, 1, 1]               0\n",
            "Conv2dStaticSamePadding-142             [-1, 12, 1, 1]           3,468\n",
            "MemoryEfficientSwish-143             [-1, 12, 1, 1]               0\n",
            "        Identity-144             [-1, 12, 1, 1]               0\n",
            "Conv2dStaticSamePadding-145            [-1, 288, 1, 1]           3,744\n",
            "        Identity-146          [-1, 288, 38, 50]               0\n",
            "Conv2dStaticSamePadding-147           [-1, 96, 38, 50]          27,648\n",
            "     BatchNorm2d-148           [-1, 96, 38, 50]             192\n",
            "     MBConvBlock-149           [-1, 96, 38, 50]               0\n",
            "        Identity-150           [-1, 96, 38, 50]               0\n",
            "Conv2dStaticSamePadding-151          [-1, 576, 38, 50]          55,296\n",
            "     BatchNorm2d-152          [-1, 576, 38, 50]           1,152\n",
            "MemoryEfficientSwish-153          [-1, 576, 38, 50]               0\n",
            "       ZeroPad2d-154          [-1, 576, 40, 52]               0\n",
            "Conv2dStaticSamePadding-155          [-1, 576, 38, 50]           5,184\n",
            "     BatchNorm2d-156          [-1, 576, 38, 50]           1,152\n",
            "MemoryEfficientSwish-157          [-1, 576, 38, 50]               0\n",
            "        Identity-158            [-1, 576, 1, 1]               0\n",
            "Conv2dStaticSamePadding-159             [-1, 24, 1, 1]          13,848\n",
            "MemoryEfficientSwish-160             [-1, 24, 1, 1]               0\n",
            "        Identity-161             [-1, 24, 1, 1]               0\n",
            "Conv2dStaticSamePadding-162            [-1, 576, 1, 1]          14,400\n",
            "        Identity-163          [-1, 576, 38, 50]               0\n",
            "Conv2dStaticSamePadding-164           [-1, 96, 38, 50]          55,296\n",
            "     BatchNorm2d-165           [-1, 96, 38, 50]             192\n",
            "     MBConvBlock-166           [-1, 96, 38, 50]               0\n",
            "        Identity-167           [-1, 96, 38, 50]               0\n",
            "Conv2dStaticSamePadding-168          [-1, 576, 38, 50]          55,296\n",
            "     BatchNorm2d-169          [-1, 576, 38, 50]           1,152\n",
            "MemoryEfficientSwish-170          [-1, 576, 38, 50]               0\n",
            "       ZeroPad2d-171          [-1, 576, 40, 52]               0\n",
            "Conv2dStaticSamePadding-172          [-1, 576, 38, 50]           5,184\n",
            "     BatchNorm2d-173          [-1, 576, 38, 50]           1,152\n",
            "MemoryEfficientSwish-174          [-1, 576, 38, 50]               0\n",
            "        Identity-175            [-1, 576, 1, 1]               0\n",
            "Conv2dStaticSamePadding-176             [-1, 24, 1, 1]          13,848\n",
            "MemoryEfficientSwish-177             [-1, 24, 1, 1]               0\n",
            "        Identity-178             [-1, 24, 1, 1]               0\n",
            "Conv2dStaticSamePadding-179            [-1, 576, 1, 1]          14,400\n",
            "        Identity-180          [-1, 576, 38, 50]               0\n",
            "Conv2dStaticSamePadding-181           [-1, 96, 38, 50]          55,296\n",
            "     BatchNorm2d-182           [-1, 96, 38, 50]             192\n",
            "     MBConvBlock-183           [-1, 96, 38, 50]               0\n",
            "        Identity-184           [-1, 96, 38, 50]               0\n",
            "Conv2dStaticSamePadding-185          [-1, 576, 38, 50]          55,296\n",
            "     BatchNorm2d-186          [-1, 576, 38, 50]           1,152\n",
            "MemoryEfficientSwish-187          [-1, 576, 38, 50]               0\n",
            "       ZeroPad2d-188          [-1, 576, 40, 52]               0\n",
            "Conv2dStaticSamePadding-189          [-1, 576, 38, 50]           5,184\n",
            "     BatchNorm2d-190          [-1, 576, 38, 50]           1,152\n",
            "MemoryEfficientSwish-191          [-1, 576, 38, 50]               0\n",
            "        Identity-192            [-1, 576, 1, 1]               0\n",
            "Conv2dStaticSamePadding-193             [-1, 24, 1, 1]          13,848\n",
            "MemoryEfficientSwish-194             [-1, 24, 1, 1]               0\n",
            "        Identity-195             [-1, 24, 1, 1]               0\n",
            "Conv2dStaticSamePadding-196            [-1, 576, 1, 1]          14,400\n",
            "        Identity-197          [-1, 576, 38, 50]               0\n",
            "Conv2dStaticSamePadding-198           [-1, 96, 38, 50]          55,296\n",
            "     BatchNorm2d-199           [-1, 96, 38, 50]             192\n",
            "     MBConvBlock-200           [-1, 96, 38, 50]               0\n",
            "        Identity-201           [-1, 96, 38, 50]               0\n",
            "Conv2dStaticSamePadding-202          [-1, 576, 38, 50]          55,296\n",
            "     BatchNorm2d-203          [-1, 576, 38, 50]           1,152\n",
            "MemoryEfficientSwish-204          [-1, 576, 38, 50]               0\n",
            "       ZeroPad2d-205          [-1, 576, 40, 52]               0\n",
            "Conv2dStaticSamePadding-206          [-1, 576, 38, 50]           5,184\n",
            "     BatchNorm2d-207          [-1, 576, 38, 50]           1,152\n",
            "MemoryEfficientSwish-208          [-1, 576, 38, 50]               0\n",
            "        Identity-209            [-1, 576, 1, 1]               0\n",
            "Conv2dStaticSamePadding-210             [-1, 24, 1, 1]          13,848\n",
            "MemoryEfficientSwish-211             [-1, 24, 1, 1]               0\n",
            "        Identity-212             [-1, 24, 1, 1]               0\n",
            "Conv2dStaticSamePadding-213            [-1, 576, 1, 1]          14,400\n",
            "        Identity-214          [-1, 576, 38, 50]               0\n",
            "Conv2dStaticSamePadding-215           [-1, 96, 38, 50]          55,296\n",
            "     BatchNorm2d-216           [-1, 96, 38, 50]             192\n",
            "     MBConvBlock-217           [-1, 96, 38, 50]               0\n",
            "        Identity-218           [-1, 96, 38, 50]               0\n",
            "Conv2dStaticSamePadding-219          [-1, 576, 38, 50]          55,296\n",
            "     BatchNorm2d-220          [-1, 576, 38, 50]           1,152\n",
            "MemoryEfficientSwish-221          [-1, 576, 38, 50]               0\n",
            "       ZeroPad2d-222          [-1, 576, 42, 54]               0\n",
            "Conv2dStaticSamePadding-223          [-1, 576, 38, 50]          14,400\n",
            "     BatchNorm2d-224          [-1, 576, 38, 50]           1,152\n",
            "MemoryEfficientSwish-225          [-1, 576, 38, 50]               0\n",
            "        Identity-226            [-1, 576, 1, 1]               0\n",
            "Conv2dStaticSamePadding-227             [-1, 24, 1, 1]          13,848\n",
            "MemoryEfficientSwish-228             [-1, 24, 1, 1]               0\n",
            "        Identity-229             [-1, 24, 1, 1]               0\n",
            "Conv2dStaticSamePadding-230            [-1, 576, 1, 1]          14,400\n",
            "        Identity-231          [-1, 576, 38, 50]               0\n",
            "Conv2dStaticSamePadding-232          [-1, 136, 38, 50]          78,336\n",
            "     BatchNorm2d-233          [-1, 136, 38, 50]             272\n",
            "     MBConvBlock-234          [-1, 136, 38, 50]               0\n",
            "        Identity-235          [-1, 136, 38, 50]               0\n",
            "Conv2dStaticSamePadding-236          [-1, 816, 38, 50]         110,976\n",
            "     BatchNorm2d-237          [-1, 816, 38, 50]           1,632\n",
            "MemoryEfficientSwish-238          [-1, 816, 38, 50]               0\n",
            "       ZeroPad2d-239          [-1, 816, 42, 54]               0\n",
            "Conv2dStaticSamePadding-240          [-1, 816, 38, 50]          20,400\n",
            "     BatchNorm2d-241          [-1, 816, 38, 50]           1,632\n",
            "MemoryEfficientSwish-242          [-1, 816, 38, 50]               0\n",
            "        Identity-243            [-1, 816, 1, 1]               0\n",
            "Conv2dStaticSamePadding-244             [-1, 34, 1, 1]          27,778\n",
            "MemoryEfficientSwish-245             [-1, 34, 1, 1]               0\n",
            "        Identity-246             [-1, 34, 1, 1]               0\n",
            "Conv2dStaticSamePadding-247            [-1, 816, 1, 1]          28,560\n",
            "        Identity-248          [-1, 816, 38, 50]               0\n",
            "Conv2dStaticSamePadding-249          [-1, 136, 38, 50]         110,976\n",
            "     BatchNorm2d-250          [-1, 136, 38, 50]             272\n",
            "     MBConvBlock-251          [-1, 136, 38, 50]               0\n",
            "        Identity-252          [-1, 136, 38, 50]               0\n",
            "Conv2dStaticSamePadding-253          [-1, 816, 38, 50]         110,976\n",
            "     BatchNorm2d-254          [-1, 816, 38, 50]           1,632\n",
            "MemoryEfficientSwish-255          [-1, 816, 38, 50]               0\n",
            "       ZeroPad2d-256          [-1, 816, 42, 54]               0\n",
            "Conv2dStaticSamePadding-257          [-1, 816, 38, 50]          20,400\n",
            "     BatchNorm2d-258          [-1, 816, 38, 50]           1,632\n",
            "MemoryEfficientSwish-259          [-1, 816, 38, 50]               0\n",
            "        Identity-260            [-1, 816, 1, 1]               0\n",
            "Conv2dStaticSamePadding-261             [-1, 34, 1, 1]          27,778\n",
            "MemoryEfficientSwish-262             [-1, 34, 1, 1]               0\n",
            "        Identity-263             [-1, 34, 1, 1]               0\n",
            "Conv2dStaticSamePadding-264            [-1, 816, 1, 1]          28,560\n",
            "        Identity-265          [-1, 816, 38, 50]               0\n",
            "Conv2dStaticSamePadding-266          [-1, 136, 38, 50]         110,976\n",
            "     BatchNorm2d-267          [-1, 136, 38, 50]             272\n",
            "     MBConvBlock-268          [-1, 136, 38, 50]               0\n",
            "        Identity-269          [-1, 136, 38, 50]               0\n",
            "Conv2dStaticSamePadding-270          [-1, 816, 38, 50]         110,976\n",
            "     BatchNorm2d-271          [-1, 816, 38, 50]           1,632\n",
            "MemoryEfficientSwish-272          [-1, 816, 38, 50]               0\n",
            "       ZeroPad2d-273          [-1, 816, 42, 54]               0\n",
            "Conv2dStaticSamePadding-274          [-1, 816, 38, 50]          20,400\n",
            "     BatchNorm2d-275          [-1, 816, 38, 50]           1,632\n",
            "MemoryEfficientSwish-276          [-1, 816, 38, 50]               0\n",
            "        Identity-277            [-1, 816, 1, 1]               0\n",
            "Conv2dStaticSamePadding-278             [-1, 34, 1, 1]          27,778\n",
            "MemoryEfficientSwish-279             [-1, 34, 1, 1]               0\n",
            "        Identity-280             [-1, 34, 1, 1]               0\n",
            "Conv2dStaticSamePadding-281            [-1, 816, 1, 1]          28,560\n",
            "        Identity-282          [-1, 816, 38, 50]               0\n",
            "Conv2dStaticSamePadding-283          [-1, 136, 38, 50]         110,976\n",
            "     BatchNorm2d-284          [-1, 136, 38, 50]             272\n",
            "     MBConvBlock-285          [-1, 136, 38, 50]               0\n",
            "        Identity-286          [-1, 136, 38, 50]               0\n",
            "Conv2dStaticSamePadding-287          [-1, 816, 38, 50]         110,976\n",
            "     BatchNorm2d-288          [-1, 816, 38, 50]           1,632\n",
            "MemoryEfficientSwish-289          [-1, 816, 38, 50]               0\n",
            "       ZeroPad2d-290          [-1, 816, 42, 54]               0\n",
            "Conv2dStaticSamePadding-291          [-1, 816, 38, 50]          20,400\n",
            "     BatchNorm2d-292          [-1, 816, 38, 50]           1,632\n",
            "MemoryEfficientSwish-293          [-1, 816, 38, 50]               0\n",
            "        Identity-294            [-1, 816, 1, 1]               0\n",
            "Conv2dStaticSamePadding-295             [-1, 34, 1, 1]          27,778\n",
            "MemoryEfficientSwish-296             [-1, 34, 1, 1]               0\n",
            "        Identity-297             [-1, 34, 1, 1]               0\n",
            "Conv2dStaticSamePadding-298            [-1, 816, 1, 1]          28,560\n",
            "        Identity-299          [-1, 816, 38, 50]               0\n",
            "Conv2dStaticSamePadding-300          [-1, 136, 38, 50]         110,976\n",
            "     BatchNorm2d-301          [-1, 136, 38, 50]             272\n",
            "     MBConvBlock-302          [-1, 136, 38, 50]               0\n",
            "        Identity-303          [-1, 136, 38, 50]               0\n",
            "Conv2dStaticSamePadding-304          [-1, 816, 38, 50]         110,976\n",
            "     BatchNorm2d-305          [-1, 816, 38, 50]           1,632\n",
            "MemoryEfficientSwish-306          [-1, 816, 38, 50]               0\n",
            "       ZeroPad2d-307          [-1, 816, 42, 54]               0\n",
            "Conv2dStaticSamePadding-308          [-1, 816, 19, 25]          20,400\n",
            "     BatchNorm2d-309          [-1, 816, 19, 25]           1,632\n",
            "MemoryEfficientSwish-310          [-1, 816, 19, 25]               0\n",
            "        Identity-311            [-1, 816, 1, 1]               0\n",
            "Conv2dStaticSamePadding-312             [-1, 34, 1, 1]          27,778\n",
            "MemoryEfficientSwish-313             [-1, 34, 1, 1]               0\n",
            "        Identity-314             [-1, 34, 1, 1]               0\n",
            "Conv2dStaticSamePadding-315            [-1, 816, 1, 1]          28,560\n",
            "        Identity-316          [-1, 816, 19, 25]               0\n",
            "Conv2dStaticSamePadding-317          [-1, 232, 19, 25]         189,312\n",
            "     BatchNorm2d-318          [-1, 232, 19, 25]             464\n",
            "     MBConvBlock-319          [-1, 232, 19, 25]               0\n",
            "        Identity-320          [-1, 232, 19, 25]               0\n",
            "Conv2dStaticSamePadding-321         [-1, 1392, 19, 25]         322,944\n",
            "     BatchNorm2d-322         [-1, 1392, 19, 25]           2,784\n",
            "MemoryEfficientSwish-323         [-1, 1392, 19, 25]               0\n",
            "       ZeroPad2d-324         [-1, 1392, 23, 29]               0\n",
            "Conv2dStaticSamePadding-325         [-1, 1392, 19, 25]          34,800\n",
            "     BatchNorm2d-326         [-1, 1392, 19, 25]           2,784\n",
            "MemoryEfficientSwish-327         [-1, 1392, 19, 25]               0\n",
            "        Identity-328           [-1, 1392, 1, 1]               0\n",
            "Conv2dStaticSamePadding-329             [-1, 58, 1, 1]          80,794\n",
            "MemoryEfficientSwish-330             [-1, 58, 1, 1]               0\n",
            "        Identity-331             [-1, 58, 1, 1]               0\n",
            "Conv2dStaticSamePadding-332           [-1, 1392, 1, 1]          82,128\n",
            "        Identity-333         [-1, 1392, 19, 25]               0\n",
            "Conv2dStaticSamePadding-334          [-1, 232, 19, 25]         322,944\n",
            "     BatchNorm2d-335          [-1, 232, 19, 25]             464\n",
            "     MBConvBlock-336          [-1, 232, 19, 25]               0\n",
            "        Identity-337          [-1, 232, 19, 25]               0\n",
            "Conv2dStaticSamePadding-338         [-1, 1392, 19, 25]         322,944\n",
            "     BatchNorm2d-339         [-1, 1392, 19, 25]           2,784\n",
            "MemoryEfficientSwish-340         [-1, 1392, 19, 25]               0\n",
            "       ZeroPad2d-341         [-1, 1392, 23, 29]               0\n",
            "Conv2dStaticSamePadding-342         [-1, 1392, 19, 25]          34,800\n",
            "     BatchNorm2d-343         [-1, 1392, 19, 25]           2,784\n",
            "MemoryEfficientSwish-344         [-1, 1392, 19, 25]               0\n",
            "        Identity-345           [-1, 1392, 1, 1]               0\n",
            "Conv2dStaticSamePadding-346             [-1, 58, 1, 1]          80,794\n",
            "MemoryEfficientSwish-347             [-1, 58, 1, 1]               0\n",
            "        Identity-348             [-1, 58, 1, 1]               0\n",
            "Conv2dStaticSamePadding-349           [-1, 1392, 1, 1]          82,128\n",
            "        Identity-350         [-1, 1392, 19, 25]               0\n",
            "Conv2dStaticSamePadding-351          [-1, 232, 19, 25]         322,944\n",
            "     BatchNorm2d-352          [-1, 232, 19, 25]             464\n",
            "     MBConvBlock-353          [-1, 232, 19, 25]               0\n",
            "        Identity-354          [-1, 232, 19, 25]               0\n",
            "Conv2dStaticSamePadding-355         [-1, 1392, 19, 25]         322,944\n",
            "     BatchNorm2d-356         [-1, 1392, 19, 25]           2,784\n",
            "MemoryEfficientSwish-357         [-1, 1392, 19, 25]               0\n",
            "       ZeroPad2d-358         [-1, 1392, 23, 29]               0\n",
            "Conv2dStaticSamePadding-359         [-1, 1392, 19, 25]          34,800\n",
            "     BatchNorm2d-360         [-1, 1392, 19, 25]           2,784\n",
            "MemoryEfficientSwish-361         [-1, 1392, 19, 25]               0\n",
            "        Identity-362           [-1, 1392, 1, 1]               0\n",
            "Conv2dStaticSamePadding-363             [-1, 58, 1, 1]          80,794\n",
            "MemoryEfficientSwish-364             [-1, 58, 1, 1]               0\n",
            "        Identity-365             [-1, 58, 1, 1]               0\n",
            "Conv2dStaticSamePadding-366           [-1, 1392, 1, 1]          82,128\n",
            "        Identity-367         [-1, 1392, 19, 25]               0\n",
            "Conv2dStaticSamePadding-368          [-1, 232, 19, 25]         322,944\n",
            "     BatchNorm2d-369          [-1, 232, 19, 25]             464\n",
            "     MBConvBlock-370          [-1, 232, 19, 25]               0\n",
            "        Identity-371          [-1, 232, 19, 25]               0\n",
            "Conv2dStaticSamePadding-372         [-1, 1392, 19, 25]         322,944\n",
            "     BatchNorm2d-373         [-1, 1392, 19, 25]           2,784\n",
            "MemoryEfficientSwish-374         [-1, 1392, 19, 25]               0\n",
            "       ZeroPad2d-375         [-1, 1392, 23, 29]               0\n",
            "Conv2dStaticSamePadding-376         [-1, 1392, 19, 25]          34,800\n",
            "     BatchNorm2d-377         [-1, 1392, 19, 25]           2,784\n",
            "MemoryEfficientSwish-378         [-1, 1392, 19, 25]               0\n",
            "        Identity-379           [-1, 1392, 1, 1]               0\n",
            "Conv2dStaticSamePadding-380             [-1, 58, 1, 1]          80,794\n",
            "MemoryEfficientSwish-381             [-1, 58, 1, 1]               0\n",
            "        Identity-382             [-1, 58, 1, 1]               0\n",
            "Conv2dStaticSamePadding-383           [-1, 1392, 1, 1]          82,128\n",
            "        Identity-384         [-1, 1392, 19, 25]               0\n",
            "Conv2dStaticSamePadding-385          [-1, 232, 19, 25]         322,944\n",
            "     BatchNorm2d-386          [-1, 232, 19, 25]             464\n",
            "     MBConvBlock-387          [-1, 232, 19, 25]               0\n",
            "        Identity-388          [-1, 232, 19, 25]               0\n",
            "Conv2dStaticSamePadding-389         [-1, 1392, 19, 25]         322,944\n",
            "     BatchNorm2d-390         [-1, 1392, 19, 25]           2,784\n",
            "MemoryEfficientSwish-391         [-1, 1392, 19, 25]               0\n",
            "       ZeroPad2d-392         [-1, 1392, 23, 29]               0\n",
            "Conv2dStaticSamePadding-393         [-1, 1392, 19, 25]          34,800\n",
            "     BatchNorm2d-394         [-1, 1392, 19, 25]           2,784\n",
            "MemoryEfficientSwish-395         [-1, 1392, 19, 25]               0\n",
            "        Identity-396           [-1, 1392, 1, 1]               0\n",
            "Conv2dStaticSamePadding-397             [-1, 58, 1, 1]          80,794\n",
            "MemoryEfficientSwish-398             [-1, 58, 1, 1]               0\n",
            "        Identity-399             [-1, 58, 1, 1]               0\n",
            "Conv2dStaticSamePadding-400           [-1, 1392, 1, 1]          82,128\n",
            "        Identity-401         [-1, 1392, 19, 25]               0\n",
            "Conv2dStaticSamePadding-402          [-1, 232, 19, 25]         322,944\n",
            "     BatchNorm2d-403          [-1, 232, 19, 25]             464\n",
            "     MBConvBlock-404          [-1, 232, 19, 25]               0\n",
            "        Identity-405          [-1, 232, 19, 25]               0\n",
            "Conv2dStaticSamePadding-406         [-1, 1392, 19, 25]         322,944\n",
            "     BatchNorm2d-407         [-1, 1392, 19, 25]           2,784\n",
            "MemoryEfficientSwish-408         [-1, 1392, 19, 25]               0\n",
            "       ZeroPad2d-409         [-1, 1392, 21, 27]               0\n",
            "Conv2dStaticSamePadding-410         [-1, 1392, 19, 25]          12,528\n",
            "     BatchNorm2d-411         [-1, 1392, 19, 25]           2,784\n",
            "MemoryEfficientSwish-412         [-1, 1392, 19, 25]               0\n",
            "        Identity-413           [-1, 1392, 1, 1]               0\n",
            "Conv2dStaticSamePadding-414             [-1, 58, 1, 1]          80,794\n",
            "MemoryEfficientSwish-415             [-1, 58, 1, 1]               0\n",
            "        Identity-416             [-1, 58, 1, 1]               0\n",
            "Conv2dStaticSamePadding-417           [-1, 1392, 1, 1]          82,128\n",
            "        Identity-418         [-1, 1392, 19, 25]               0\n",
            "Conv2dStaticSamePadding-419          [-1, 384, 19, 25]         534,528\n",
            "     BatchNorm2d-420          [-1, 384, 19, 25]             768\n",
            "     MBConvBlock-421          [-1, 384, 19, 25]               0\n",
            "        Identity-422          [-1, 384, 19, 25]               0\n",
            "Conv2dStaticSamePadding-423         [-1, 2304, 19, 25]         884,736\n",
            "     BatchNorm2d-424         [-1, 2304, 19, 25]           4,608\n",
            "MemoryEfficientSwish-425         [-1, 2304, 19, 25]               0\n",
            "       ZeroPad2d-426         [-1, 2304, 21, 27]               0\n",
            "Conv2dStaticSamePadding-427         [-1, 2304, 19, 25]          20,736\n",
            "     BatchNorm2d-428         [-1, 2304, 19, 25]           4,608\n",
            "MemoryEfficientSwish-429         [-1, 2304, 19, 25]               0\n",
            "        Identity-430           [-1, 2304, 1, 1]               0\n",
            "Conv2dStaticSamePadding-431             [-1, 96, 1, 1]         221,280\n",
            "MemoryEfficientSwish-432             [-1, 96, 1, 1]               0\n",
            "        Identity-433             [-1, 96, 1, 1]               0\n",
            "Conv2dStaticSamePadding-434           [-1, 2304, 1, 1]         223,488\n",
            "        Identity-435         [-1, 2304, 19, 25]               0\n",
            "Conv2dStaticSamePadding-436          [-1, 384, 19, 25]         884,736\n",
            "     BatchNorm2d-437          [-1, 384, 19, 25]             768\n",
            "     MBConvBlock-438          [-1, 384, 19, 25]               0\n",
            "        Identity-439          [-1, 384, 19, 25]               0\n",
            "Conv2dStaticSamePadding-440         [-1, 1536, 19, 25]         589,824\n",
            "     BatchNorm2d-441         [-1, 1536, 19, 25]           3,072\n",
            "MemoryEfficientSwish-442         [-1, 1536, 19, 25]               0\n",
            "AdaptiveAvgPool2d-443           [-1, 1536, 1, 1]               0\n",
            "         Dropout-444                 [-1, 1536]               0\n",
            "          Linear-445                    [-1, 5]           7,685\n",
            "================================================================\n",
            "Total params: 10,703,917\n",
            "Trainable params: 10,703,917\n",
            "Non-trainable params: 0\n",
            "----------------------------------------------------------------\n",
            "Input size (MB): 5.49\n",
            "Forward/backward pass size (MB): 3852.36\n",
            "Params size (MB): 40.83\n",
            "Estimated Total Size (MB): 3898.69\n",
            "----------------------------------------------------------------\n"
          ],
          "name": "stdout"
        }
      ]
    },
    {
      "cell_type": "code",
      "metadata": {
        "colab": {
          "base_uri": "https://localhost:8080/"
        },
        "id": "L4NBFJFZgt6v",
        "outputId": "d1c45f6f-1169-4dfc-ff88-37c39c1e1ed8"
      },
      "source": [
        "len(trainset)"
      ],
      "execution_count": null,
      "outputs": [
        {
          "output_type": "execute_result",
          "data": {
            "text/plain": [
              "9999"
            ]
          },
          "metadata": {
            "tags": []
          },
          "execution_count": 11
        }
      ]
    },
    {
      "cell_type": "code",
      "metadata": {
        "colab": {
          "base_uri": "https://localhost:8080/"
        },
        "id": "wi1zNEnggt9U",
        "outputId": "30a9ed35-1edd-4690-920a-e42e2340db8f"
      },
      "source": [
        "len(train_dl)"
      ],
      "execution_count": null,
      "outputs": [
        {
          "output_type": "execute_result",
          "data": {
            "text/plain": [
              "625"
            ]
          },
          "metadata": {
            "tags": []
          },
          "execution_count": 12
        }
      ]
    },
    {
      "cell_type": "code",
      "metadata": {
        "id": "A-SbeW8-73Yy"
      },
      "source": [
        "loss_fun = nn.MSELoss()\r\n",
        "\r\n",
        "def encode(out):\r\n",
        "    for i in range(len(out)):\r\n",
        "        for j in range(len(out[i])):\r\n",
        "            if out[i][j] == torch.max(out[i]):\r\n",
        "                out[i][j] = 1\r\n",
        "            else:\r\n",
        "                out[i][j] = 0\r\n",
        "    return out\r\n",
        "\r\n",
        "def accuracy(out, labels):\r\n",
        "    c=0\r\n",
        "    output = out.clone()\r\n",
        "    label = labels.clone()\r\n",
        "    outa = encode(output)\r\n",
        "    labelsa = encode(label)\r\n",
        "    for i in range(len(outa)):\r\n",
        "        if list(outa[i]==labelsa[i]) == [True, True, True, True, True]:\r\n",
        "            c+=1\r\n",
        "    return c/len(output)\r\n",
        "\r\n",
        "def evaluate(model, val_dl):\r\n",
        "    model.eval()\r\n",
        "    val_acc, val_loss = [], []\r\n",
        "    for batch in val_dl:\r\n",
        "        img, labels = batch\r\n",
        "        with torch.no_grad():\r\n",
        "            out = model(img)\r\n",
        "            loss = loss_fun(out, labels.long())\r\n",
        "            acc = accuracy(out, labels)\r\n",
        "            val_loss.append(loss.detach())\r\n",
        "            val_acc.append(acc)\r\n",
        "    return sum(val_loss)/len(val_loss), sum(val_acc)/len(val_acc)\r\n",
        "\r\n",
        "def fit(model, epochs, train_dl, validation_dl, lr=1e-3):\r\n",
        "    model.train()\r\n",
        "    optimizer= torch.optim.Adam(model.parameters(), lr=lr, weight_decay=1e-5)\r\n",
        "    train_acc, train_loss, val_acc, val_loss= [], [], [], []\r\n",
        "    for epoch in range(epochs):\r\n",
        "        epoch_loss, epoch_acc = [], []\r\n",
        "        for batch in train_dl:\r\n",
        "            model.train()\r\n",
        "            img, labels = batch\r\n",
        "            out = model(img)\r\n",
        "            loss = loss_fun(out, labels.float())\r\n",
        "            acc = accuracy(out, labels)\r\n",
        "            loss.backward()\r\n",
        "            optimizer.step()\r\n",
        "            optimizer.zero_grad()\r\n",
        "            epoch_loss.append(loss)\r\n",
        "            epoch_acc.append(acc)\r\n",
        "            \r\n",
        "        train_loss.append(sum(epoch_loss)/len(epoch_loss))\r\n",
        "        train_acc.append(sum(epoch_acc)/len(epoch_acc))\r\n",
        "        vald_loss, vald_acc  = evaluate(model, val_dl)\r\n",
        "        val_acc.append(vald_acc)\r\n",
        "        val_loss.append(vald_loss)\r\n",
        "        print(f'Epoch: {epoch+1}/{epochs} -- Train Loss: {sum(epoch_loss)/len(epoch_loss)} -- Train Acc: {sum(epoch_acc)*100/len(epoch_acc)} -- Val Loss: {vald_loss} -- Val Acc: {vald_acc*100}') \r\n",
        "\r\n",
        "        torch.save(effnet, '/content/data/MyDrive/cassava_effnet_b3_20_lesser')\r\n",
        "    return {\"train_loss\": train_loss , \"train_acc\" : train_acc, \"val_loss\" : val_loss, \"val_acc\": val_acc}"
      ],
      "execution_count": null,
      "outputs": []
    },
    {
      "cell_type": "code",
      "metadata": {
        "id": "fKKtIZhAdbKy",
        "colab": {
          "base_uri": "https://localhost:8080/"
        },
        "outputId": "c1f65b0d-ebbb-4d02-a55f-50a591e11451"
      },
      "source": [
        "history = fit(effnet, 10, train_dl, val_dl, lr=1e-3)"
      ],
      "execution_count": null,
      "outputs": [
        {
          "output_type": "stream",
          "text": [
            "Epoch: 1/10 -- Train Loss: 0.08491052687168121 -- Train Acc: 70.12733333333334 -- Val Loss: 0.08591455966234207 -- Val Acc: 71.15384615384616\n",
            "Epoch: 2/10 -- Train Loss: 0.08346998691558838 -- Train Acc: 71.29533333333333 -- Val Loss: 0.08151596784591675 -- Val Acc: 71.39423076923077\n"
          ],
          "name": "stdout"
        }
      ]
    },
    {
      "cell_type": "code",
      "metadata": {
        "id": "pBa_y7apY1G1"
      },
      "source": [
        "evaluate(effnet, test_dl)"
      ],
      "execution_count": null,
      "outputs": []
    },
    {
      "cell_type": "code",
      "metadata": {
        "id": "GJLF61xY7ETj"
      },
      "source": [
        "torch.save(effnet, '/content/data/MyDrive/cassava_effnet_b3_20_lesser')"
      ],
      "execution_count": null,
      "outputs": []
    },
    {
      "cell_type": "code",
      "metadata": {
        "id": "y068N73RCXQW"
      },
      "source": [
        ""
      ],
      "execution_count": null,
      "outputs": []
    }
  ]
}